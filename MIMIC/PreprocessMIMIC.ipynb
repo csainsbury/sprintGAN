{
 "cells": [
  {
   "cell_type": "code",
   "execution_count": 25,
   "metadata": {},
   "outputs": [
    {
     "name": "stdout",
     "output_type": "stream",
     "text": [
      "((3236245, 2), (3219598, 2), (3235531, 2), (7941588, 2), (2842917, 2), (2865910, 2), (2863468, 2), (6122094, 2), (2671816, 2))\n"
     ]
    }
   ],
   "source": [
    "import pandas as pd\n",
    "import numpy as np\n",
    "\n",
    "df = pd.DataFrame(columns=['HADMID', 'Arterial_BP_mean', 'Arterial_SBP', 'Arterial_DBP', 'HR',\n",
    "                           'NI_BP_mean', 'NI_SBP', 'NI_DBP', 'Resp_rate', 'SpO2'])\n",
    "\n",
    "a_bp_mean = pd.read_csv('/data/SPRINT/MIMIC/arterial_bp_mean.csv')\n",
    "a_bp_mean.dropna(axis=0, inplace=True)\n",
    "a_dbp = pd.read_csv('/data/SPRINT/MIMIC/arterial_dbp.csv')\n",
    "a_dbp.dropna(axis=0, inplace=True)\n",
    "a_sbp = pd.read_csv('/data/SPRINT/MIMIC/arterial_sbp.csv')\n",
    "a_sbp.dropna(axis=0, inplace=True)\n",
    "hr = pd.read_csv('/data/SPRINT/MIMIC/hr.csv')\n",
    "hr.dropna(axis=0, inplace=True)\n",
    "ni_bp_mean = pd.read_csv('/data/SPRINT/MIMIC/ni_bp_mean.csv')\n",
    "ni_bp_mean.dropna(axis=0, inplace=True)\n",
    "ni_sbp = pd.read_csv('/data/SPRINT/MIMIC/ni_sbp.csv')\n",
    "ni_sbp.dropna(axis=0, inplace=True)\n",
    "ni_dbp = pd.read_csv('/data/SPRINT/MIMIC/ni_dbp.csv')\n",
    "ni_dbp.dropna(axis=0, inplace=True)\n",
    "resp_rate = pd.read_csv('/data/SPRINT/MIMIC/resp_rate.csv')\n",
    "resp_rate.dropna(axis=0, inplace=True)\n",
    "SpO2 = pd.read_csv('/data/SPRINT/MIMIC/spo2.csv')\n",
    "SpO2.dropna(axis=0, inplace=True)\n",
    "\n",
    "print(a_bp_mean.shape, a_dbp.shape, a_sbp.shape, hr.shape, ni_bp_mean.shape, ni_sbp.shape,\n",
    "      ni_dbp.shape, resp_rate.shape, SpO2.shape)"
   ]
  },
  {
   "cell_type": "code",
   "execution_count": 26,
   "metadata": {},
   "outputs": [
    {
     "name": "stdout",
     "output_type": "stream",
     "text": [
      "(57272, 1)\n",
      "(72600, 2)\n"
     ]
    }
   ],
   "source": [
    "admissions = pd.read_csv('/data/SPRINT/MIMIC/admissions.csv')\n",
    "print(admissions.shape)\n",
    "\n",
    "labels = pd.read_csv('/data/SPRINT/MIMIC/labels.csv')\n",
    "print(labels.shape)"
   ]
  },
  {
   "cell_type": "code",
   "execution_count": 28,
   "metadata": {},
   "outputs": [
    {
     "name": "stdout",
     "output_type": "stream",
     "text": [
      "Index([u'HADM_ID', u'SpO2'], dtype='object')\n",
      "(1000, 147)\n",
      "(2000, 309)\n",
      "(3000, 444)\n",
      "(4000, 579)\n",
      "(5000, 715)\n",
      "(6000, 860)\n",
      "(7000, 1004)\n",
      "(8000, 1154)\n",
      "(9000, 1306)\n",
      "(10000, 1433)\n",
      "(11000, 1585)\n",
      "(12000, 1720)\n",
      "(13000, 1862)\n",
      "(14000, 2015)\n",
      "(15000, 2148)\n",
      "(16000, 2286)\n",
      "(17000, 2419)\n",
      "(18000, 2561)\n",
      "(19000, 2701)\n",
      "(20000, 2868)\n",
      "(21000, 3004)\n",
      "(22000, 3141)\n",
      "(23000, 3283)\n",
      "(24000, 3432)\n",
      "(25000, 3572)\n",
      "(26000, 3707)\n",
      "(27000, 3843)\n",
      "(28000, 3987)\n",
      "(29000, 4152)\n",
      "(30000, 4285)\n",
      "(31000, 4426)\n",
      "(32000, 4559)\n",
      "(33000, 4710)\n",
      "(34000, 4872)\n",
      "(35000, 5020)\n",
      "(36000, 5188)\n",
      "(37000, 5340)\n",
      "(38000, 5470)\n",
      "(39000, 5605)\n",
      "(40000, 5757)\n",
      "(41000, 5903)\n",
      "(42000, 6034)\n",
      "(43000, 6176)\n",
      "(44000, 6333)\n",
      "(45000, 6486)\n",
      "(46000, 6634)\n",
      "(47000, 6792)\n",
      "(48000, 6943)\n",
      "(49000, 7082)\n",
      "(50000, 7223)\n",
      "(51000, 7376)\n",
      "(52000, 7509)\n",
      "(53000, 7648)\n",
      "(54000, 7786)\n",
      "(55000, 7943)\n",
      "(56000, 8080)\n",
      "(57000, 8222)\n"
     ]
    }
   ],
   "source": [
    "print(SpO2.columns)\n",
    "\n",
    "\n",
    "i = 0\n",
    "j = 0\n",
    "\n",
    "X_array = np.array([], dtype=float)\n",
    "y_array = np.array([])\n",
    "\n",
    "# filter and find admissions with 10 of each category\n",
    "for index, row in admissions.iterrows():\n",
    "    min_row_count = a_bp_mean.loc[a_bp_mean['HADM_ID'] == row['HADM_ID']].shape[0]\n",
    "    min_row_count = min(min_row_count, \n",
    "                        a_dbp.loc[a_dbp['HADM_ID'] == row['HADM_ID']].shape[0])\n",
    "    min_row_count = min(min_row_count,\n",
    "                        a_sbp.loc[a_sbp['HADM_ID'] == row['HADM_ID']].shape[0])\n",
    "    min_row_count = min(min_row_count,\n",
    "                        hr.loc[hr['HADM_ID'] == row['HADM_ID']].shape[0])\n",
    "    min_row_count = min(min_row_count,\n",
    "                        ni_bp_mean.loc[ni_bp_mean['HADM_ID'] == row['HADM_ID']].shape[0])\n",
    "    min_row_count = min(min_row_count,\n",
    "                        ni_sbp.loc[ni_sbp['HADM_ID'] == row['HADM_ID']].shape[0])\n",
    "    min_row_count = min(min_row_count,\n",
    "                        ni_dbp.loc[ni_dbp['HADM_ID'] == row['HADM_ID']].shape[0])\n",
    "    min_row_count = min(min_row_count,\n",
    "                        resp_rate.loc[resp_rate['HADM_ID'] == row['HADM_ID']].shape[0])\n",
    "    min_row_count = min(min_row_count,\n",
    "                        SpO2.loc[SpO2['HADM_ID'] == row['HADM_ID']].shape[0])\n",
    "    \n",
    "    if min_row_count > 4:\n",
    "        j += 1\n",
    "\n",
    "        x_row = [a_bp_mean.loc[a_bp_mean['HADM_ID'] == row['HADM_ID']].head(5)['arterial_bp_mean'].values,\n",
    "                 a_sbp.loc[a_sbp['HADM_ID'] == row['HADM_ID']].head(5)['arterial_sbp'].values,\n",
    "                 a_dbp.loc[a_dbp['HADM_ID'] == row['HADM_ID']].head(5)['arterial_dbp'].values,\n",
    "                 hr.loc[hr['HADM_ID'] == row['HADM_ID']].head(5)['BPM'].values,\n",
    "                 ni_bp_mean.loc[ni_bp_mean['HADM_ID'] == row['HADM_ID']]['ni_bp_mean'].head(5).values,\n",
    "                 ni_sbp.loc[ni_sbp['HADM_ID'] == row['HADM_ID']]['ni_sbp'].head(5).values,\n",
    "                 ni_dbp.loc[ni_dbp['HADM_ID'] == row['HADM_ID']]['ni_dbp'].head(5).values,\n",
    "                 resp_rate.loc[resp_rate['HADM_ID'] == row['HADM_ID']]['resp_rate'].head(5).values,\n",
    "                 SpO2.loc[SpO2['HADM_ID'] == row['HADM_ID']]['SpO2'].head(5).values]\n",
    "        \n",
    "        y_row = max(labels.loc[labels['HADM_ID'] == row['HADM_ID']]['HEART_FAILURE'].values)\n",
    "\n",
    "        if X_array.shape[0] == 0:\n",
    "            X_array = np.array([x_row])\n",
    "            y_array = [y_row]\n",
    "        else:\n",
    "            X_array = np.concatenate((X_array, [np.array(x_row)]))\n",
    "            y_array.append(y_row)\n",
    "            \n",
    "    i += 1\n",
    "    if i % 1000 == 0:\n",
    "        print(i, j)"
   ]
  },
  {
   "cell_type": "code",
   "execution_count": 29,
   "metadata": {
    "scrolled": false
   },
   "outputs": [
    {
     "name": "stdout",
     "output_type": "stream",
     "text": [
      "[]\n"
     ]
    }
   ],
   "source": [
    "print(np.argwhere(np.isnan(X_array)))\n"
   ]
  },
  {
   "cell_type": "code",
   "execution_count": 30,
   "metadata": {},
   "outputs": [
    {
     "name": "stdout",
     "output_type": "stream",
     "text": [
      "(2110, 8260)\n"
     ]
    }
   ],
   "source": [
    "import pickle as pkl\n",
    "print(sum(y_array), len(y_array))\n",
    "pkl.dump(X_array, open('/data/SPRINT/MIMIC/X_processed_5.pkl', 'wb'))\n",
    "pkl.dump(np.array(y_array), open('/data/SPRINT/MIMIC/y_processed_5.pkl', 'wb'))"
   ]
  }
 ],
 "metadata": {
  "anaconda-cloud": {},
  "kernelspec": {
   "display_name": "Python 2",
   "language": "python",
   "name": "python2"
  },
  "language_info": {
   "codemirror_mode": {
    "name": "ipython",
    "version": 2
   },
   "file_extension": ".py",
   "mimetype": "text/x-python",
   "name": "python",
   "nbconvert_exporter": "python",
   "pygments_lexer": "ipython2",
   "version": "2.7.13"
  }
 },
 "nbformat": 4,
 "nbformat_minor": 1
}
