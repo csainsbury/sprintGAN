{
 "cells": [
  {
   "cell_type": "code",
   "execution_count": 30,
   "metadata": {
    "collapsed": false
   },
   "outputs": [
    {
     "name": "stdout",
     "output_type": "stream",
     "text": [
      "((3246466, 2), (3228916, 2), (3235531, 2), (7943034, 2), (2846453, 2), (2870169, 2), (2863468, 2), (6123824, 2), (2685457, 2))\n"
     ]
    }
   ],
   "source": [
    "import pandas as pd\n",
    "import numpy as np\n",
    "\n",
    "df = pd.DataFrame(columns=['HADMID', 'Arterial_BP_mean', 'Arterial_SBP', 'Arterial_DBP', 'HR',\n",
    "                           'NI_BP_mean', 'NI_SBP', 'NI_DBP', 'Resp_rate', 'SpO2'])\n",
    "\n",
    "a_bp_mean = pd.read_csv('/data/SPRINT/MIMIC/arterial_bp_mean.csv')\n",
    "a_dbp = pd.read_csv('/data/SPRINT/MIMIC/arterial_dbp.csv')\n",
    "a_sbp = pd.read_csv('/data/SPRINT/MIMIC/arterial_sbp.csv')\n",
    "hr = pd.read_csv('/data/SPRINT/MIMIC/hr.csv')\n",
    "ni_bp_mean = pd.read_csv('/data/SPRINT/MIMIC/ni_bp_mean.csv')\n",
    "ni_sbp = pd.read_csv('/data/SPRINT/MIMIC/ni_sbp.csv')\n",
    "ni_dbp = pd.read_csv('/data/SPRINT/MIMIC/ni_dbp.csv')\n",
    "resp_rate = pd.read_csv('/data/SPRINT/MIMIC/resp_rate.csv')\n",
    "SpO2 = pd.read_csv('/data/SPRINT/MIMIC/spo2.csv')\n",
    "\n",
    "print(a_bp_mean.shape, a_dbp.shape, a_sbp.shape, hr.shape, ni_bp_mean.shape, ni_sbp.shape,\n",
    "      ni_dbp.shape, resp_rate.shape, SpO2.shape)"
   ]
  },
  {
   "cell_type": "code",
   "execution_count": 31,
   "metadata": {
    "collapsed": false
   },
   "outputs": [
    {
     "name": "stdout",
     "output_type": "stream",
     "text": [
      "(57272, 1)\n",
      "(72600, 2)\n"
     ]
    }
   ],
   "source": [
    "admissions = pd.read_csv('/data/SPRINT/MIMIC/admissions.csv')\n",
    "print(admissions.shape)\n",
    "\n",
    "labels = pd.read_csv('/data/SPRINT/MIMIC/labels.csv')\n",
    "print(labels.shape)"
   ]
  },
  {
   "cell_type": "code",
   "execution_count": null,
   "metadata": {
    "collapsed": false
   },
   "outputs": [
    {
     "name": "stdout",
     "output_type": "stream",
     "text": [
      "Index([u'HADM_ID', u'HEART_FAILURE'], dtype='object')\n",
      "1000\n",
      "2000\n",
      "3000\n",
      "4000\n",
      "5000\n",
      "6000\n",
      "7000\n",
      "8000\n",
      "9000\n",
      "10000\n",
      "11000\n"
     ]
    }
   ],
   "source": [
    "print(labels.columns)\n",
    "\n",
    "\n",
    "i = 0\n",
    "j = 0\n",
    "\n",
    "X_array = np.array([], dtype=float)\n",
    "y_array = np.array([])\n",
    "\n",
    "# filter and find admissions with 10 of each category\n",
    "for index, row in admissions.iterrows():\n",
    "    min_row_count = a_bp_mean.loc[a_bp_mean['HADM_ID'] == row['HADM_ID']].shape[0]\n",
    "    min_row_count = min(min_row_count, \n",
    "                        a_dbp.loc[a_dbp['HADM_ID'] == row['HADM_ID']].shape[0])\n",
    "    min_row_count = min(min_row_count,\n",
    "                        a_sbp.loc[a_sbp['HADM_ID'] == row['HADM_ID']].shape[0])\n",
    "    min_row_count = min(min_row_count,\n",
    "                        hr.loc[hr['HADM_ID'] == row['HADM_ID']].shape[0])\n",
    "    min_row_count = min(min_row_count,\n",
    "                        ni_bp_mean.loc[ni_bp_mean['HADM_ID'] == row['HADM_ID']].shape[0])\n",
    "    min_row_count = min(min_row_count,\n",
    "                        ni_sbp.loc[ni_sbp['HADM_ID'] == row['HADM_ID']].shape[0])\n",
    "    min_row_count = min(min_row_count,\n",
    "                        ni_dbp.loc[ni_dbp['HADM_ID'] == row['HADM_ID']].shape[0])\n",
    "    min_row_count = min(min_row_count,\n",
    "                        resp_rate.loc[resp_rate['HADM_ID'] == row['HADM_ID']].shape[0])\n",
    "    min_row_count = min(min_row_count,\n",
    "                        SpO2.loc[SpO2['HADM_ID'] == row['HADM_ID']].shape[0])\n",
    "    \n",
    "    if min_row_count > 9:\n",
    "        j += 1\n",
    "        x_row = [a_bp_mean.loc[a_bp_mean['HADM_ID'] == row['HADM_ID']].head(10)['arterial_bp_mean'].values,\n",
    "                 a_sbp.loc[a_sbp['HADM_ID'] == row['HADM_ID']].head(10)['arterial_sbp'].values,\n",
    "                 a_dbp.loc[a_dbp['HADM_ID'] == row['HADM_ID']].head(10)['arterial_dbp'].values,\n",
    "                 hr.loc[hr['HADM_ID'] == row['HADM_ID']].head(10)['BPM'].values,\n",
    "                 ni_bp_mean.loc[ni_bp_mean['HADM_ID'] == row['HADM_ID']]['ni_bp_mean'].head(10).values,\n",
    "                 ni_sbp.loc[ni_sbp['HADM_ID'] == row['HADM_ID']]['ni_sbp'].head(10).values,\n",
    "                 ni_dbp.loc[ni_dbp['HADM_ID'] == row['HADM_ID']]['ni_dbp'].head(10).values,\n",
    "                 resp_rate.loc[resp_rate['HADM_ID'] == row['HADM_ID']]['resp_rate'].head(10).values,\n",
    "                 SpO2.loc[SpO2['HADM_ID'] == row['HADM_ID']]['SpO2'].head(10).values]\n",
    "        y_row = max(labels.loc[labels['HADM_ID'] == row['HADM_ID']]['HEART_FAILURE'].values)\n",
    "\n",
    "        if X_array.shape[0] == 0:\n",
    "            X_array = np.array([x_row])\n",
    "            y_array = [y_row]\n",
    "        else:\n",
    "            X_array = np.concatenate((X_array, [np.array(x_row)]))\n",
    "            y_array.append(y_row)\n",
    "            \n",
    "    i += 1\n",
    "    if i % 1000 == 0:\n",
    "        print(i)"
   ]
  },
  {
   "cell_type": "code",
   "execution_count": null,
   "metadata": {
    "collapsed": true
   },
   "outputs": [],
   "source": [
    "print(sum(y_array)\n",
    "pkl.dump(X_array, open('/data/SPRINT/MIMIC/X_processed.pkl', 'wb'))\n",
    "pkl.dump(np.array(y_array), open('/data/SPRINT/MIMIC/y_processed.pkl', 'wb'))"
   ]
  }
 ],
 "metadata": {
  "anaconda-cloud": {},
  "kernelspec": {
   "display_name": "Python [conda root]",
   "language": "python",
   "name": "conda-root-py"
  },
  "language_info": {
   "codemirror_mode": {
    "name": "ipython",
    "version": 2
   },
   "file_extension": ".py",
   "mimetype": "text/x-python",
   "name": "python",
   "nbconvert_exporter": "python",
   "pygments_lexer": "ipython2",
   "version": "2.7.12"
  }
 },
 "nbformat": 4,
 "nbformat_minor": 1
}
